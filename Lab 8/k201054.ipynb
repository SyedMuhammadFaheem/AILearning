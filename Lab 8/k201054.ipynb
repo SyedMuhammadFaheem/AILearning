{
 "cells": [
  {
   "cell_type": "code",
   "execution_count": 4,
   "id": "b97d878d",
   "metadata": {},
   "outputs": [
    {
     "name": "stdout",
     "output_type": "stream",
     "text": [
      "Requirement already satisfied: pip in /Library/Frameworks/Python.framework/Versions/3.11/lib/python3.11/site-packages (23.1.2)\n",
      "Collecting install\n",
      "  Downloading install-1.3.5-py3-none-any.whl (3.2 kB)\n",
      "Collecting node\n",
      "  Downloading node-1.2.1-py3-none-any.whl (102 kB)\n",
      "\u001b[2K     \u001b[90m━━━━━━━━━━━━━━━━━━━━━━━━━━━━━━━━━━━━━\u001b[0m \u001b[32m102.7/102.7 kB\u001b[0m \u001b[31m462.8 kB/s\u001b[0m eta \u001b[36m0:00:00\u001b[0ma \u001b[36m0:00:01\u001b[0m\n",
      "\u001b[?25hCollecting odict>=1.9.0 (from node)\n",
      "  Using cached odict-1.9.0-py3-none-any.whl (15 kB)\n",
      "Collecting plumber>=1.5 (from node)\n",
      "  Using cached plumber-1.7-py3-none-any.whl (25 kB)\n",
      "Requirement already satisfied: setuptools in /Library/Frameworks/Python.framework/Versions/3.11/lib/python3.11/site-packages (from node) (65.5.0)\n",
      "Collecting zope.component (from node)\n",
      "  Downloading zope.component-6.0-py3-none-any.whl (68 kB)\n",
      "\u001b[2K     \u001b[90m━━━━━━━━━━━━━━━━━━━━━━━━━━━━━━━━━━━━━━━━\u001b[0m \u001b[32m68.8/68.8 kB\u001b[0m \u001b[31m2.1 MB/s\u001b[0m eta \u001b[36m0:00:00\u001b[0m\n",
      "\u001b[?25hCollecting zope.deferredimport (from node)\n",
      "  Using cached zope.deferredimport-4.4-py2.py3-none-any.whl (10.0 kB)\n",
      "Collecting zope.deprecation (from node)\n",
      "  Using cached zope.deprecation-5.0-py3-none-any.whl (10 kB)\n",
      "Collecting zope.lifecycleevent (from node)\n",
      "  Using cached zope.lifecycleevent-4.4-py2.py3-none-any.whl (18 kB)\n",
      "Collecting zope.event (from zope.component->node)\n",
      "  Using cached zope.event-4.6-py2.py3-none-any.whl (6.8 kB)\n",
      "Collecting zope.hookable>=4.2.0 (from zope.component->node)\n",
      "  Using cached zope.hookable-5.4-cp311-cp311-macosx_11_0_arm64.whl (14 kB)\n",
      "Collecting zope.interface>=5.3 (from zope.component->node)\n",
      "  Downloading zope.interface-6.0-cp311-cp311-macosx_11_0_arm64.whl (202 kB)\n",
      "\u001b[2K     \u001b[90m━━━━━━━━━━━━━━━━━━━━━━━━━━━━━━━━━━━━━━━\u001b[0m \u001b[32m202.4/202.4 kB\u001b[0m \u001b[31m1.2 MB/s\u001b[0m eta \u001b[36m0:00:00\u001b[0ma \u001b[36m0:00:01\u001b[0m\n",
      "\u001b[?25hCollecting zope.proxy (from zope.deferredimport->node)\n",
      "  Using cached zope.proxy-5.0.0-cp311-cp311-macosx_11_0_arm64.whl (39 kB)\n",
      "Installing collected packages: zope.interface, zope.hookable, zope.event, zope.deprecation, plumber, odict, install, zope.proxy, zope.lifecycleevent, zope.component, zope.deferredimport, node\n",
      "Successfully installed install-1.3.5 node-1.2.1 odict-1.9.0 plumber-1.7 zope.component-6.0 zope.deferredimport-4.4 zope.deprecation-5.0 zope.event-4.6 zope.hookable-5.4 zope.interface-6.0 zope.lifecycleevent-4.4 zope.proxy-5.0.0\n",
      "The Probability Percentage is: 66.52079665380975\n"
     ]
    }
   ],
   "source": [
    "#Task 1 Lab Manual\n",
    "import random\n",
    "def calculateProb(sample):\n",
    "    tempScore=0   \n",
    "    for i in range(sample):\n",
    "        dieOne=random.randint(1,6)\n",
    "        dieTwo=random.randint(1,6)\n",
    "        score=dieOne+dieTwo\n",
    "        if score%2==0 or score>7:\n",
    "            tempScore+=1\n",
    "    score=tempScore/sample\n",
    "    print('The Probability Percentage is:',score*100)\n",
    "\n",
    "def generateSample():\n",
    "    sample=int(random.random()*100000)\n",
    "    return sample\n",
    "calculateProb(generateSample())"
   ]
  },
  {
   "cell_type": "code",
   "execution_count": 2,
   "id": "52493abe",
   "metadata": {},
   "outputs": [
    {
     "name": "stdout",
     "output_type": "stream",
     "text": [
      "Part A Probability Percentage: 0.005676083839054094\n",
      "Part B Probability Percentage: 2.8977689694721898\n"
     ]
    }
   ],
   "source": [
    "#Task 2 Lab Manual\n",
    "\n",
    "import math\n",
    "def nCr(n,r):\n",
    "    f = math.factorial\n",
    "    return f(n)//f(r)//f(n-r)\n",
    "\n",
    "#Part a \n",
    "totalSampleCombination=nCr(60,5)\n",
    "whiteBalls=nCr(10,3)\n",
    "redBalls=nCr(20,2)\n",
    "probPercentage=(whiteBalls+redBalls)/totalSampleCombination\n",
    "print('Part A Probability Percentage:',probPercentage*100)\n",
    "\n",
    "#Part b\n",
    "whiteBalls=nCr(10,5)/totalSampleCombination\n",
    "redBalls=nCr(20,5)/totalSampleCombination\n",
    "greenBalls=nCr(30,5)/totalSampleCombination\n",
    "probPercentage=(whiteBalls+redBalls+greenBalls)\n",
    "print('Part B Probability Percentage:',probPercentage*100)"
   ]
  },
  {
   "cell_type": "code",
   "execution_count": 25,
   "id": "88f32ce5",
   "metadata": {},
   "outputs": [
    {
     "ename": "NameError",
     "evalue": "name 'DiscreteDistribution' is not defined",
     "output_type": "error",
     "traceback": [
      "\u001b[0;31m---------------------------------------------------------------------------\u001b[0m",
      "\u001b[0;31mNameError\u001b[0m                                 Traceback (most recent call last)",
      "Cell \u001b[0;32mIn[25], line 5\u001b[0m\n\u001b[1;32m      2\u001b[0m \u001b[38;5;28;01mfrom\u001b[39;00m \u001b[38;5;21;01mnode\u001b[39;00m \u001b[38;5;28;01mimport\u001b[39;00m \u001b[38;5;241m*\u001b[39m\n\u001b[1;32m      3\u001b[0m \u001b[38;5;28;01mfrom\u001b[39;00m \u001b[38;5;21;01mpomegranate\u001b[39;00m \u001b[38;5;28;01mimport\u001b[39;00m \u001b[38;5;241m*\u001b[39m\n\u001b[0;32m----> 5\u001b[0m studyTime \u001b[38;5;241m=\u001b[39m \u001b[43mDiscreteDistribution\u001b[49m({\u001b[38;5;124m'\u001b[39m\u001b[38;5;124mLow\u001b[39m\u001b[38;5;124m'\u001b[39m: \u001b[38;5;241m0.2\u001b[39m, \u001b[38;5;124m'\u001b[39m\u001b[38;5;124mMedium\u001b[39m\u001b[38;5;124m'\u001b[39m: \u001b[38;5;241m0.5\u001b[39m, \u001b[38;5;124m'\u001b[39m\u001b[38;5;124mHigh\u001b[39m\u001b[38;5;124m'\u001b[39m: \u001b[38;5;241m0.3\u001b[39m})\n\u001b[1;32m      6\u001b[0m examScore \u001b[38;5;241m=\u001b[39m ConditionalProbabilityTable([\n\u001b[1;32m      7\u001b[0m     [\u001b[38;5;124m'\u001b[39m\u001b[38;5;124mLow\u001b[39m\u001b[38;5;124m'\u001b[39m, \u001b[38;5;124m'\u001b[39m\u001b[38;5;124mLow\u001b[39m\u001b[38;5;124m'\u001b[39m, \u001b[38;5;241m0.3\u001b[39m],\n\u001b[1;32m      8\u001b[0m     [\u001b[38;5;124m'\u001b[39m\u001b[38;5;124mLow\u001b[39m\u001b[38;5;124m'\u001b[39m, \u001b[38;5;124m'\u001b[39m\u001b[38;5;124mMedium\u001b[39m\u001b[38;5;124m'\u001b[39m, \u001b[38;5;241m0.4\u001b[39m],\n\u001b[0;32m   (...)\u001b[0m\n\u001b[1;32m     15\u001b[0m     [\u001b[38;5;124m'\u001b[39m\u001b[38;5;124mHigh\u001b[39m\u001b[38;5;124m'\u001b[39m, \u001b[38;5;124m'\u001b[39m\u001b[38;5;124mHigh\u001b[39m\u001b[38;5;124m'\u001b[39m, \u001b[38;5;241m0.6\u001b[39m],\n\u001b[1;32m     16\u001b[0m ], [studyTime\u001b[38;5;241m.\u001b[39mdistribution])\n\u001b[1;32m     17\u001b[0m passFinalExam \u001b[38;5;241m=\u001b[39m ConditionalProbabilityTable([\n\u001b[1;32m     18\u001b[0m     [\u001b[38;5;124m'\u001b[39m\u001b[38;5;124mLow\u001b[39m\u001b[38;5;124m'\u001b[39m, \u001b[38;5;28;01mTrue\u001b[39;00m, \u001b[38;5;241m0.1\u001b[39m],\n\u001b[1;32m     19\u001b[0m     [\u001b[38;5;124m'\u001b[39m\u001b[38;5;124mLow\u001b[39m\u001b[38;5;124m'\u001b[39m, \u001b[38;5;28;01mFalse\u001b[39;00m, \u001b[38;5;241m0.9\u001b[39m],\n\u001b[0;32m   (...)\u001b[0m\n\u001b[1;32m     23\u001b[0m     [\u001b[38;5;124m'\u001b[39m\u001b[38;5;124mHigh\u001b[39m\u001b[38;5;124m'\u001b[39m, \u001b[38;5;28;01mFalse\u001b[39;00m, \u001b[38;5;241m0.1\u001b[39m],\n\u001b[1;32m     24\u001b[0m ], [examScore\u001b[38;5;241m.\u001b[39mdistribution])\n",
      "\u001b[0;31mNameError\u001b[0m: name 'DiscreteDistribution' is not defined"
     ]
    }
   ],
   "source": [
    "#Special Task 1\n",
    "from node import *\n",
    "from pomegranate import *\n",
    "\n",
    "studyTime = DiscreteDistribution({'Low': 0.2, 'Medium': 0.5, 'High': 0.3})\n",
    "examScore = ConditionalProbabilityTable([\n",
    "    ['Low', 'Low', 0.3],\n",
    "    ['Low', 'Medium', 0.4],\n",
    "    ['Low', 'High', 0.3],\n",
    "    ['Medium', 'Low', 0.2],\n",
    "    ['Medium', 'Medium', 0.5],\n",
    "    ['Medium', 'High', 0.3],\n",
    "    ['High', 'Low', 0.1],\n",
    "    ['High', 'Medium', 0.3],\n",
    "    ['High', 'High', 0.6],\n",
    "], [studyTime.distribution])\n",
    "passFinalExam = ConditionalProbabilityTable([\n",
    "    ['Low', True, 0.1],\n",
    "    ['Low', False, 0.9],\n",
    "    ['Medium', True, 0.4],\n",
    "    ['Medium', False, 0.6],\n",
    "    ['High', True, 0.9],\n",
    "    ['High', False, 0.1],\n",
    "], [examScore.distribution])\n",
    "\n",
    "model = BayesianNetwork('Passing Final Exam Prediction')\n",
    "model.add_states(studyTime, examScore, passFinalExam)\n",
    "\n",
    "model.add_edge(studyTime, examScore)\n",
    "model.add_edge(examScore, passFinalExam)\n",
    "\n",
    "model.bake()\n",
    "\n",
    "mediumScoreGivenHighTime = model.predict_proba({'studyTime': 'High'})[1].parameters[0]['Medium']\n",
    "print(\"Probability of getting a medium exam score given high study time:\",mediumScoreGivenHighTime)\n",
    "\n",
    "passGivenMediumScore = model.predict_proba({'examScore': 'Medium'})[2].parameters[0][True]\n",
    "print(\"Probability of passing the final exam given a medium exam score:\",passGivenMediumScore)"
   ]
  },
  {
   "cell_type": "code",
   "execution_count": 22,
   "id": "668d9071",
   "metadata": {},
   "outputs": [
    {
     "name": "stdout",
     "output_type": "stream",
     "text": [
      "Requirement already satisfied: node in /Library/Frameworks/Python.framework/Versions/3.11/lib/python3.11/site-packages (1.2.1)\n",
      "Requirement already satisfied: odict>=1.9.0 in /Library/Frameworks/Python.framework/Versions/3.11/lib/python3.11/site-packages (from node) (1.9.0)\n",
      "Requirement already satisfied: plumber>=1.5 in /Library/Frameworks/Python.framework/Versions/3.11/lib/python3.11/site-packages (from node) (1.7)\n",
      "Requirement already satisfied: setuptools in /Library/Frameworks/Python.framework/Versions/3.11/lib/python3.11/site-packages (from node) (65.5.0)\n",
      "Requirement already satisfied: zope.component in /Library/Frameworks/Python.framework/Versions/3.11/lib/python3.11/site-packages (from node) (6.0)\n",
      "Requirement already satisfied: zope.deferredimport in /Library/Frameworks/Python.framework/Versions/3.11/lib/python3.11/site-packages (from node) (4.4)\n",
      "Requirement already satisfied: zope.deprecation in /Library/Frameworks/Python.framework/Versions/3.11/lib/python3.11/site-packages (from node) (5.0)\n",
      "Requirement already satisfied: zope.lifecycleevent in /Library/Frameworks/Python.framework/Versions/3.11/lib/python3.11/site-packages (from node) (4.4)\n",
      "Requirement already satisfied: zope.event in /Library/Frameworks/Python.framework/Versions/3.11/lib/python3.11/site-packages (from zope.component->node) (4.6)\n",
      "Requirement already satisfied: zope.hookable>=4.2.0 in /Library/Frameworks/Python.framework/Versions/3.11/lib/python3.11/site-packages (from zope.component->node) (5.4)\n",
      "Requirement already satisfied: zope.interface>=5.3 in /Library/Frameworks/Python.framework/Versions/3.11/lib/python3.11/site-packages (from zope.component->node) (6.0)\n",
      "Requirement already satisfied: zope.proxy in /Library/Frameworks/Python.framework/Versions/3.11/lib/python3.11/site-packages (from zope.deferredimport->node) (5.0.0)\n"
     ]
    }
   ],
   "source": [
    "!pip install node \n",
    "\n"
   ]
  },
  {
   "cell_type": "code",
   "execution_count": 23,
   "id": "122b4638",
   "metadata": {},
   "outputs": [
    {
     "ename": "NameError",
     "evalue": "name 'DiscreteDistribution' is not defined",
     "output_type": "error",
     "traceback": [
      "\u001b[0;31m---------------------------------------------------------------------------\u001b[0m",
      "\u001b[0;31mNameError\u001b[0m                                 Traceback (most recent call last)",
      "Cell \u001b[0;32mIn[23], line 3\u001b[0m\n\u001b[1;32m      1\u001b[0m \u001b[38;5;28;01mfrom\u001b[39;00m \u001b[38;5;21;01mpomegranate\u001b[39;00m \u001b[38;5;28;01mimport\u001b[39;00m \u001b[38;5;241m*\u001b[39m\n\u001b[0;32m----> 3\u001b[0m age \u001b[38;5;241m=\u001b[39m Node(\u001b[43mDiscreteDistribution\u001b[49m({\u001b[38;5;124m'\u001b[39m\u001b[38;5;124m<40\u001b[39m\u001b[38;5;124m'\u001b[39m: \u001b[38;5;241m0.333\u001b[39m, \u001b[38;5;124m'\u001b[39m\u001b[38;5;124m40-60\u001b[39m\u001b[38;5;124m'\u001b[39m: \u001b[38;5;241m0.333\u001b[39m, \u001b[38;5;124m'\u001b[39m\u001b[38;5;124m>60\u001b[39m\u001b[38;5;124m'\u001b[39m: \u001b[38;5;241m0.334\u001b[39m}), name\u001b[38;5;241m=\u001b[39m\u001b[38;5;124m'\u001b[39m\u001b[38;5;124mage\u001b[39m\u001b[38;5;124m'\u001b[39m)\n\u001b[1;32m      4\u001b[0m hd \u001b[38;5;241m=\u001b[39m Node(DiscreteDistribution({\u001b[38;5;124m'\u001b[39m\u001b[38;5;124mNo\u001b[39m\u001b[38;5;124m'\u001b[39m: \u001b[38;5;241m0.6\u001b[39m, \u001b[38;5;124m'\u001b[39m\u001b[38;5;124mYes\u001b[39m\u001b[38;5;124m'\u001b[39m: \u001b[38;5;241m0.4\u001b[39m}), name\u001b[38;5;241m=\u001b[39m\u001b[38;5;124m'\u001b[39m\u001b[38;5;124mhd\u001b[39m\u001b[38;5;124m'\u001b[39m)\n\u001b[1;32m      5\u001b[0m chol \u001b[38;5;241m=\u001b[39m Node(DiscreteDistribution({\u001b[38;5;124m'\u001b[39m\u001b[38;5;124mHigh\u001b[39m\u001b[38;5;124m'\u001b[39m: \u001b[38;5;241m0.35\u001b[39m, \u001b[38;5;124m'\u001b[39m\u001b[38;5;124mNormal\u001b[39m\u001b[38;5;124m'\u001b[39m: \u001b[38;5;241m0.65\u001b[39m}), name\u001b[38;5;241m=\u001b[39m\u001b[38;5;124m'\u001b[39m\u001b[38;5;124mchol\u001b[39m\u001b[38;5;124m'\u001b[39m)\n",
      "\u001b[0;31mNameError\u001b[0m: name 'DiscreteDistribution' is not defined"
     ]
    }
   ],
   "source": [
    "from pomegranate import *\n",
    "\n",
    "age = Node(DiscreteDistribution({'<40': 0.333, '40-60': 0.333, '>60': 0.334}), name='age')\n",
    "hd = Node(DiscreteDistribution({'No': 0.6, 'Yes': 0.4}), name='hd')\n",
    "chol = Node(DiscreteDistribution({'High': 0.35, 'Normal': 0.65}), name='chol')\n",
    "\n",
    "ageHdChol = ConditionalProbabilityTable(\n",
    "    [['<40', 'No', 'High', 100],\n",
    "     ['<40', 'Yes', 'High', 150],\n",
    "     ['40-60', 'No', 'High', 150],\n",
    "     ['40-60', 'Yes', 'High', 255],\n",
    "     ['>60', 'No', 'High', 150],\n",
    "     ['>60', 'Yes', 'High', 250],\n",
    "     ['<40', 'No', 'Normal', 150],\n",
    "     ['<40', 'Yes', 'Normal', 100],\n",
    "     ['40-60', 'No', 'Normal', 200],\n",
    "     ['40-60', 'Yes', 'Normal', 240],\n",
    "     ['>60', 'No', 'Normal', 200],\n",
    "     ['>60', 'Yes', 'Normal', 210],\n",
    "     ['<40', 'No', 'High', 0.001],\n",
    "     ['<40', 'No', 'Normal', 0.001],\n",
    "     ['<40', 'Yes', 'High', 0.001],\n",
    "     ['<40', 'Yes', 'Normal', 0.001],\n",
    "     ['40-60', 'No', 'High', 0.001],\n",
    "     ['40-60', 'No', 'Normal', 0.001],\n",
    "     ['40-60', 'Yes', 'High', 0.001],\n",
    "     ['40-60', 'Yes', 'Normal', 0.001],\n",
    "     ['>60', 'No', 'High', 0.001],\n",
    "     ['>60', 'No', 'Normal', 0.001],\n",
    "     ['>60', 'Yes', 'High', 0.001],\n",
    "     ['>60', 'Yes', 'Normal', 0.001]],\n",
    "    [age.distribution, hd.distribution, chol.distribution]\n",
    ")\n",
    "\n",
    "ageHdCholNode = Node(ageHdChol, name='ageHdChol')\n",
    "\n",
    "model = BayesianNetwork('Heart Disease Prediction')\n",
    "model.add_states(age, hd, chol, ageHdCholNode)\n",
    "\n",
    "model.add_edge(age, ageHdCholNode)\n",
    "model.add_edge(hd, ageHdCholNode)\n",
    "model.add_edge(chol, ageHdCholNode)\n",
    "\n",
    "model.bake()\n",
    "\n",
    "probHdGivenAgeChol = model.predict_proba({'age': '<40', 'chol': 'High'})[1].parameters[0]['Yes']\n",
    "print(f\"Conditional probability of heart disease given age=<40 and cholesterol=High: {probHdGivenAgeChol:.2f}\")\n"
   ]
  },
  {
   "cell_type": "code",
   "execution_count": 33,
   "id": "b8ac2690",
   "metadata": {},
   "outputs": [
    {
     "ename": "KeyError",
     "evalue": "('low', 'low', 'windows', 'F')",
     "output_type": "error",
     "traceback": [
      "\u001b[0;31m---------------------------------------------------------------------------\u001b[0m",
      "\u001b[0;31mKeyError\u001b[0m                                  Traceback (most recent call last)",
      "Cell \u001b[0;32mIn[33], line 42\u001b[0m\n\u001b[1;32m     40\u001b[0m model\u001b[38;5;241m.\u001b[39madd_edge(osType, appType)\n\u001b[1;32m     41\u001b[0m model\u001b[38;5;241m.\u001b[39madd_edge(netTraffic, appType)\n\u001b[0;32m---> 42\u001b[0m \u001b[43mmodel\u001b[49m\u001b[38;5;241;43m.\u001b[39;49m\u001b[43mbake\u001b[49m\u001b[43m(\u001b[49m\u001b[43m)\u001b[49m\n\u001b[1;32m     44\u001b[0m probFailure \u001b[38;5;241m=\u001b[39m model\u001b[38;5;241m.\u001b[39mpredict_proba({\u001b[38;5;124m'\u001b[39m\u001b[38;5;124mcpuUsage\u001b[39m\u001b[38;5;124m'\u001b[39m: \u001b[38;5;124m'\u001b[39m\u001b[38;5;124mhigh\u001b[39m\u001b[38;5;124m'\u001b[39m, \u001b[38;5;124m'\u001b[39m\u001b[38;5;124mmemUsage\u001b[39m\u001b[38;5;124m'\u001b[39m: \u001b[38;5;124m'\u001b[39m\u001b[38;5;124mhigh\u001b[39m\u001b[38;5;124m'\u001b[39m, \u001b[38;5;124m'\u001b[39m\u001b[38;5;124mdiskUsage\u001b[39m\u001b[38;5;124m'\u001b[39m: \u001b[38;5;124m'\u001b[39m\u001b[38;5;124mhigh\u001b[39m\u001b[38;5;124m'\u001b[39m, \u001b[38;5;124m'\u001b[39m\u001b[38;5;124mosType\u001b[39m\u001b[38;5;124m'\u001b[39m: \u001b[38;5;124m'\u001b[39m\u001b[38;5;124mwindows\u001b[39m\u001b[38;5;124m'\u001b[39m, \u001b[38;5;124m'\u001b[39m\u001b[38;5;124mnetTraffic\u001b[39m\u001b[38;5;124m'\u001b[39m: \u001b[38;5;124m'\u001b[39m\u001b[38;5;124mmed\u001b[39m\u001b[38;5;124m'\u001b[39m})\n\u001b[1;32m     45\u001b[0m \u001b[38;5;28mprint\u001b[39m(probFailure[model\u001b[38;5;241m.\u001b[39mstates\u001b[38;5;241m.\u001b[39mindex(appType)]\u001b[38;5;241m.\u001b[39mparameters[\u001b[38;5;241m0\u001b[39m][\u001b[38;5;124m'\u001b[39m\u001b[38;5;124mE\u001b[39m\u001b[38;5;124m'\u001b[39m])\n",
      "File \u001b[0;32m/Library/Frameworks/Python.framework/Versions/3.11/lib/python3.11/site-packages/pomegranate-0.14.8-py3.11-macosx-10.9-universal2.egg/pomegranate/BayesianNetwork.pyx:359\u001b[0m, in \u001b[0;36mpomegranate.BayesianNetwork.BayesianNetwork.bake\u001b[0;34m()\u001b[0m\n",
      "File \u001b[0;32m/Library/Frameworks/Python.framework/Versions/3.11/lib/python3.11/site-packages/pomegranate-0.14.8-py3.11-macosx-10.9-universal2.egg/pomegranate/distributions/ConditionalProbabilityTable.pyx:112\u001b[0m, in \u001b[0;36mpomegranate.distributions.ConditionalProbabilityTable.ConditionalProbabilityTable.bake\u001b[0;34m()\u001b[0m\n",
      "\u001b[0;31mKeyError\u001b[0m: ('low', 'low', 'windows', 'F')"
     ]
    }
   ],
   "source": [
    "from pomegranate import *\n",
    "\n",
    "\n",
    "cpuUsage = Node(DiscreteDistribution({'low': 0.3, 'med': 0.5, 'high': 0.2}), name='cpuUsage')\n",
    "memUsage = Node(DiscreteDistribution({'low': 0.3, 'med': 0.5, 'high': 0.2}), name='memUsage')\n",
    "diskUsage = Node(DiscreteDistribution({'low': 0.3, 'med': 0.5, 'high': 0.2}), name='diskUsage')\n",
    "osType = Node(DiscreteDistribution({'windows': 0.5, 'linux': 0.5}), name='osType')\n",
    "netTraffic = Node(DiscreteDistribution({'low': 0.3, 'med': 0.5, 'high': 0.2}), name='netTraffic')\n",
    "\n",
    "appType_cpt = ConditionalProbabilityTable(\n",
    "    [['low', 'windows', 'A', 0.3],\n",
    "['low', 'linux', 'B', 0.7],\n",
    "['med', 'windows', 'C', 0.6],\n",
    "['med', 'linux', 'D', 0.4],\n",
    "['high', 'windows', 'E', 0.9],\n",
    "['high', 'linux', 'F', 0.1],\n",
    "['low', 'low', 'windows', 'A', 0.1],\n",
    "['low', 'low', 'linux', 'B', 0.9],\n",
    "['low', 'med', 'windows', 'C', 0.2],\n",
    "['low', 'med', 'linux', 'D', 0.8],\n",
    "['low', 'high', 'windows', 'E', 0.5],\n",
    "['low', 'high', 'linux', 'F', 0.5],\n",
    "['med', 'low', 'windows', 'A', 0.2],\n",
    "['med', 'low', 'linux', 'B', 0.8],\n",
    "['med', 'med', 'windows', 'C', 0.4],\n",
    "['med', 'med', 'linux', 'D', 0.6],\n",
    "['med', 'high', 'windows', 'E', 0.7],\n",
    "['med', 'high', 'linux', 'F', 0.3]],\n",
    "    [cpuUsage.distribution, memUsage.distribution, osType.distribution])\n",
    "\n",
    "\n",
    "\n",
    "appType = Node(appType_cpt, name='appType')\n",
    "\n",
    "model = BayesianNetwork('System Failure')\n",
    "model.add_states(cpuUsage, memUsage, diskUsage, osType, netTraffic, appType)\n",
    "model.add_edge(cpuUsage, appType)\n",
    "model.add_edge(memUsage, appType)\n",
    "model.add_edge(diskUsage, appType)\n",
    "model.add_edge(osType, appType)\n",
    "model.add_edge(netTraffic, appType)\n",
    "model.bake()\n",
    "\n",
    "probFailure = model.predict_proba({'cpuUsage': 'high', 'memUsage': 'high', 'diskUsage': 'high', 'osType': 'windows', 'netTraffic': 'med'})\n",
    "print(probFailure[model.states.index(appType)].parameters[0]['E'])"
   ]
  }
 ],
 "metadata": {
  "kernelspec": {
   "display_name": "Python 3 (ipykernel)",
   "language": "python",
   "name": "python3"
  },
  "language_info": {
   "codemirror_mode": {
    "name": "ipython",
    "version": 3
   },
   "file_extension": ".py",
   "mimetype": "text/x-python",
   "name": "python",
   "nbconvert_exporter": "python",
   "pygments_lexer": "ipython3",
   "version": "3.11.3"
  }
 },
 "nbformat": 4,
 "nbformat_minor": 5
}
